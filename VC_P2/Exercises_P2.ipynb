{
 "cells": [
  {
   "cell_type": "markdown",
   "id": "8bdf675b",
   "metadata": {},
   "source": [
    "# **Segundo conjunto de tareas a realizar**\n",
    "\n",
    "## Paquetes necesarios e inicializaciones\n",
    "\n",
    "Para la realización de las siguientes tareas, se va a utilizar el mismo *enviroment* de Python llamado VC_P1 creado en el [primer conjunto de tareas](../VC_P1/Exercises_P1.ipynb), la única dependencia adicional que se ha de descargar es la que viene dada por el paquete **Pillow**."
   ]
  },
  {
   "cell_type": "code",
   "execution_count": null,
   "id": "5478d19b",
   "metadata": {
    "vscode": {
     "languageId": "shellscript"
    }
   },
   "outputs": [],
   "source": [
    "pip install Pillow"
   ]
  },
  {
   "cell_type": "markdown",
   "id": "d8fbdbe4",
   "metadata": {},
   "source": [
    "## Número máximo de píxeles blancos\n",
    "\n",
    "TAREA: Realiza la cuenta de píxeles blancos por filas (en lugar de por columnas). Determina el valor máximo de píxeles blancos para filas, maxfil, mostrando el número de filas y sus respectivas posiciones, con un número de píxeles blancos mayor o igual que 0.90*maxfil."
   ]
  },
  {
   "cell_type": "code",
   "execution_count": null,
   "id": "852b3d08",
   "metadata": {},
   "outputs": [],
   "source": []
  },
  {
   "cell_type": "markdown",
   "id": "e3ad3053",
   "metadata": {},
   "source": [
    "## Umbralizado de imagen a 8 bits\n",
    "\n",
    "TAREA: Aplica umbralizado a la imagen resultante de Sobel (convertida a 8 bits), y posteriormente realiza el conteo por filas y columnas similar al realizado en el ejemplo con la salida de Canny de píxeles no nulos. Calcula el valor máximo de la cuenta por filas y columnas, y determina las filas y columnas por encima del 0.90*máximo. Remarca con alguna primitiva gráfica dichas filas y columnas sobre la imagen del mandril. ¿Cómo se comparan los resultados obtenidos a partir de Sobel y Canny?"
   ]
  },
  {
   "cell_type": "code",
   "execution_count": null,
   "id": "ad834134",
   "metadata": {},
   "outputs": [],
   "source": []
  },
  {
   "cell_type": "markdown",
   "id": "1279326e",
   "metadata": {},
   "source": [
    "## Modos de captura por WebCam\n",
    "\n",
    "TAREA: Proponer un demostrador que capture las imágenes de la cámara, y les permita exhibir lo aprendido en estas dos prácticas ante quienes no cursen la asignatura :). Es por ello que además de poder mostrar la imagen original de la webcam, permita cambiar de modo, incluyendo al menos dos procesamientos diferentes como resultado de aplicar las funciones de OpenCV trabajadas hasta ahora."
   ]
  },
  {
   "cell_type": "code",
   "execution_count": null,
   "id": "438d9caf",
   "metadata": {},
   "outputs": [],
   "source": []
  },
  {
   "cell_type": "markdown",
   "id": "9b75c683",
   "metadata": {},
   "source": [
    "## ¿?\n",
    "\n",
    "TAREA: Tras ver los vídeos My little piece of privacy, Messa di voce y Virtual air guitar proponer un demostrador reinterpretando la parte de procesamiento de la imagen, tomando como punto de partida alguna de dichas instalaciones."
   ]
  }
 ],
 "metadata": {
  "language_info": {
   "name": "python"
  }
 },
 "nbformat": 4,
 "nbformat_minor": 5
}
