{
 "cells": [
  {
   "cell_type": "markdown",
   "id": "1c2ba7c0",
   "metadata": {},
   "source": [
    "# **Tercer conjunto de tareas a realizar**\n",
    "\n",
    "## Paquetes necesarios e inicializaciones\n",
    "\n",
    "Para la realización de las siguientes tareas, se va a utilizar el mismo *enviroment* de Python llamado VC_P1 creado en el [primer conjunto de tareas](../VC_P1/Exercises_P1.ipynb) y modificado después en el [segundo conjunto de tareas](./VC_P2/Exercises_P2.ipynb), la única dependencia adicional que se ha de descargar es la que viene dada por el paquete **scikit-learn seaborn**."
   ]
  },
  {
   "cell_type": "raw",
   "id": "83530fc6",
   "metadata": {
    "vscode": {
     "languageId": "raw"
    }
   },
   "source": [
    "pip install scikit-learn seaborn"
   ]
  },
  {
   "cell_type": "markdown",
   "id": "4cb8ac7a",
   "metadata": {},
   "source": [
    "## TAREA 1\n",
    "\n",
    "En la primera tarea, el reto o tarea consiste en determinar la cantidad de dinero y monedas presentes en la imagen. Una extensión válida sería la presencia de objetos que no sean monedas en la imagen anañizada.\n",
    "\n",
    "TAREA: Los ejemplos ilustrativos anteriores permiten saber el número de monedas presentes en la imagen. ¿Cómo saber la cantidad de dinero presente en ella? Sugerimos identificar de forma interactiva (por ejemplo haciendo clic en la imagen) una moneda de un valor determinado en la imagen (por ejemplo de 1€). Tras obtener esa información y las dimensiones en milímetros de las distintas monedas, realiza una propuesta para estimar la cantidad de dinero en la imagen. Muestra la cuenta de monedas y dinero sobre la imagen. No hay restricciones sobre utilizar medidas geométricas o de color. \n",
    "\n",
    "Una vez resuelto el reto con la imagen ideal proporcionada, captura una o varias imágenes con monedas. Aplica el mismo esquema, tras identificar la moneda del valor determinado, calcula el dinero presente en la imagen. ¿Funciona correctamente? ¿Se observan problemas?\n",
    "\n",
    "Nota: Para establecer la correspondencia entre píxeles y milímetros, comentar que la moneda de un euro tiene un diámetro de 23.25 mm. la de 50 céntimos de 24.35, la de 20 céntimos de 22.25, etc. \n",
    "\n",
    "Extras: Considerar que la imagen pueda contener objetos que no son monedas y/o haya solape entre las monedas. Demo en vivo. "
   ]
  },
  {
   "cell_type": "code",
   "execution_count": null,
   "id": "6e340158",
   "metadata": {},
   "outputs": [],
   "source": []
  },
  {
   "cell_type": "markdown",
   "id": "000fe761",
   "metadata": {},
   "source": [
    "## TAREA 2\n",
    "\n",
    "Para la segunda tarea, se proporcionan imágenes de tres clases de objetos recogidos en playas canarias: fragmentos plásticos, *pellets* y alquitrán. Para cada categoría se proporciona una imagen completa y una subimagen de la misma. Las dos primeras categorías se consideran microplásticos cuando miden menos de 5mm, mientras que la tercera es muy habitual encontrarlas en playas canarias. Observar que dado que cada imagen contiene muestras de una única categoría, disponen de un conjunto de datos anotado. La tarea propuesta consiste en primer término, hacer uso de las imágenes proporcionadas, extraer de forma automatizada las partículas e identificar patrones en sus características geométricas y de apariencia que puedan permitir la clasificación de las partículas en dichas imágenes. Las características que determinen se usarán para analizar la imagen de test proporcionada, con presencia de muestras de las tres clases. El resultado obtenido debe mostrarse por medio las métricas mostradas en el cuaderno, incluyendo la matriz de confusión, donde se comparan las anotaciones con las predicciones.\n",
    "\n",
    "![Confusión](../VC_P3/Resources/MatrizConfu.png)  \n",
    "*Ejemplo de matriz de confusión*\n",
    "\n",
    "A la hora de considerar posibles características geométricas, como punto de partida para la extracción de descriptores de las partículas, se proporciona enlace al trabajo [SMACC: A System for Microplastics Automatic Counting and Classification](https://doi.org/10.1109/ACCESS.2020.2970498) en el que se adoptan algunas propiedades geométricas para dicho fin. De forma resumida, las características geométricas utilizadas en dicho trabajo fueron:\n",
    "\n",
    "- Área en píxeles (A)\n",
    "- Perímetro en píxeles (P)\n",
    "- Compacidad (relación del cuadrado del perímetro con el área C=P^2/A)\n",
    "- Relación del área de la partícula con el área del contenedor que la contiene\n",
    "- Relación del ancho y el alto del contenedor\n",
    "- Relación entre los ejes de la elipse ajustada\n",
    "- Definido el centroide, relación entre las distancias menor y mayor al contorno\n",
    "\n",
    "En relación a la segmentación de las partículas, una probable primera observación es que la aplicación del umbralizado para separarlas del fondo, es delicada. Preprocesamiento como suavizar la imagen de entrada o reducir su tamaño, o aplicar heurísticas basadas en el tamaño mínimo y máximo de los contornos localizados, y la distancia mínima entre ellos, pueden ayudar a filtrar falsas detecciones, pero a pesar de ello, será un desafío obtener una separación perfecta para todas las imágenes con la misma estrategia. Añadir, que la imagen de fragmentos contiene unas 80 partículas, la de *pellets* unas 55 y la de alquitrán unas 54."
   ]
  },
  {
   "cell_type": "code",
   "execution_count": null,
   "id": "e910ca78",
   "metadata": {},
   "outputs": [],
   "source": []
  }
 ],
 "metadata": {
  "kernelspec": {
   "display_name": "VC_P1",
   "language": "python",
   "name": "python3"
  },
  "language_info": {
   "name": "python",
   "version": "3.13.2"
  }
 },
 "nbformat": 4,
 "nbformat_minor": 5
}
