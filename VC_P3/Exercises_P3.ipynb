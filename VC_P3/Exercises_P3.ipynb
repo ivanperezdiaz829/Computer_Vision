{
 "cells": [
  {
   "cell_type": "markdown",
   "id": "1c2ba7c0",
   "metadata": {},
   "source": [
    "# **Tercer conjunto de tareas a realizar**\n",
    "\n",
    "## Paquetes necesarios e inicializaciones\n",
    "\n",
    "Para la realización de las siguientes tareas, se va a utilizar el mismo *enviroment* de Python llamado VC_P1 creado en el [primer conjunto de tareas](../VC_P1/Exercises_P1.ipynb) y modificado después en el [segundo conjunto de tareas](), la única dependencia adicional que se ha de descargar es la que viene dada por el paquete **scikit-learn seaborn**."
   ]
  }
 ],
 "metadata": {
  "language_info": {
   "name": "python"
  }
 },
 "nbformat": 4,
 "nbformat_minor": 5
}
